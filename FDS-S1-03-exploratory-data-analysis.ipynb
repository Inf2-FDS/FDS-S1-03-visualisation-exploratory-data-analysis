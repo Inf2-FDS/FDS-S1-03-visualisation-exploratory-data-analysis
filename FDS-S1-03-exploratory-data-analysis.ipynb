{
 "cells": [
  {
   "cell_type": "markdown",
   "id": "5c7ebd79-c766-4acd-8154-f67778511139",
   "metadata": {
    "editable": true,
    "slideshow": {
     "slide_type": ""
    },
    "tags": []
   },
   "source": [
    "# Informatics 2 - Foundations of Data Science\n",
    "## S1 Week 03: Visualisation for Exploratory Data Analysis - using Tidy Data and Seaborn"
   ]
  },
  {
   "cell_type": "markdown",
   "id": "6cc8e314-cd5f-44af-849c-1f05c8cb2db1",
   "metadata": {
    "editable": true,
    "slideshow": {
     "slide_type": ""
    },
    "tags": []
   },
   "source": [
    "**Learning outcomes:** \n",
    "In this lab you will learn how to produce visualisations for exploratory data analysis. By the end of the lab you should be able to:\n",
    "- explore relationships between variables with scatter and line plots\n",
    "- use aesthetic elements like colour to represent variables\n",
    "- explore how distributions differ across variables with histograms and box plots"
   ]
  },
  {
   "cell_type": "code",
   "execution_count": null,
   "id": "ddfa288b-a18a-46cd-b121-e62fab724408",
   "metadata": {
    "deletable": false,
    "editable": false,
    "slideshow": {
     "slide_type": ""
    },
    "tags": []
   },
   "outputs": [],
   "source": [
    "import pandas as pd\n",
    "import matplotlib.pyplot as plt\n",
    "import numpy as np\n",
    "import os\n",
    "import seaborn as sns\n",
    "# Package to display the hints and soultions\n",
    "from common.show_solutions import show"
   ]
  },
  {
   "cell_type": "markdown",
   "id": "d1ee5a5f-6d97-4a0f-a3ea-2b8e1b56a09b",
   "metadata": {
    "editable": true,
    "slideshow": {
     "slide_type": ""
    },
    "tags": []
   },
   "source": [
    "## A. Introduction\n",
    "\n",
    "### A.1 Exploratory Data Analysis\n",
    "\n",
    "The focus of exploratory data analysis (EDA) is to use the power of visualisation to help you as the analyst learn as much as possible about the data quickly. In EDA, visualisations should be informative and insightful, and understandable by you and your close colleagues. However, they don't need to be very beautiful or polished - this  can wait to the data communication phase, which we'll cover in the next lab.\n",
    "\n",
    "## A.2 Tidy Data and the Grammar of Graphics\n",
    "\n",
    "As covered in the lecture on Data, in a tidy dataset, each column corresponds to a variable (or attribute) and each row corresponds to an instance or observation possessing each of the variables. Tidy data makes data exploration easy when paired with the \"[grammar of graphics](https://en.wikipedia.org/wiki/Wilkinson%27s_Grammar_of_Graphics)\" approach.\n",
    "\n",
    "The grammar of graphics is a method of producing visualisations in which variables are mapped directly onto different aesthetic elements found in a visualisation. For example, we might want to map one variable to the x-axis, another to the y-axis and a third variable to the colour of whatever it is we are plotting. Don't worry if this abstract description is confusing - it should hopefully make more sense when you see some examples! \n",
    "\n",
    "There are many different visualisation libraries out there, the one we will use today is Seaborn. As always, this lab is not comprehensive and only covers a small portion of Seaborn's capability. It is recommended that you check out the [documentation](https://seaborn.pydata.org/) to find out more.\n",
    "\n",
    "We won't utilise the full grammar of graphics approach in this lab but, if you are interested, [Seaborn objects](https://seaborn.pydata.org/tutorial/objects_interface.html) are a good place to start.\n",
    "\n",
    "## A.3 Seaborn\n",
    "\n",
    "Visualisations used in data science can often be classified as distributional or relational. Distributional visualisations show the distribution of a certain variable (or several variables), which can help understand important statistics such as the mean, median, mode, and variance. Relational visualisations illustrate how different variables relate to each other. Seaborn differentiates explicitly between these two groups of visualisations and also introduces a third category of categorical visualisations, which involve a categorical variable on one axis. Categorical visualisations can again be distributional or relational, but sometimes need a different approach.\n",
    "\n",
    "These three types of visualisation are created with `sns.distplot()`, `sns.relplot()`, and `sns.catplot()`. \n",
    "\n",
    "All three of these plots accept similar arguments, starting with the data, then a column name (in quotation marks) for each of the aspects of the plot that we want to map to a variable. For example, to map the columns `variable1` and `variable2` in a dataframe `df` to the x and y axis, we might write something like:\n",
    "\n",
    "```\n",
    "sns.___plot(       # Here ___ could be dist, rel or cat\n",
    "    data = df,\n",
    "    x = \"variable1\",\n",
    "    y = \"variable2\"\n",
    ")\n",
    "```\n",
    "Filling in the blanks appropriately. If we had more variables we'd like to visualise in the same plot, we can try mapping them to `hue` (colour), `style` (marker style, e.g. circle, cross, triangle), and `size` (size of the points):\n",
    "```\n",
    "sns.___plot(\n",
    "    data = df,\n",
    "    x = \"variable1\",\n",
    "    y = \"variable2\",\n",
    "    hue = \"variable3\",\n",
    "    style = \"variable4\",\n",
    "    size = \"variable5\"\n",
    ")\n",
    "```"
   ]
  },
  {
   "cell_type": "markdown",
   "id": "e833b8fb-4416-41f1-aa5d-b4b938f33769",
   "metadata": {
    "editable": true,
    "slideshow": {
     "slide_type": ""
    },
    "tags": []
   },
   "source": [
    "## B. Relational plots\n",
    "\n",
    "When we want to see how two variables relate to each other, we use a relational plot. Seaborn offers two kind of relational plots, scatter plots and line plots. We choose which kind of relational plot to use with the `kind` argument:\n",
    " - Scatter plot: `sns.relplot(..., kind = \"scatter\")` (scatter plots are the default, so `kind = \"scatter\"` can be omitted)\n",
    " - Line plot: `sns.relplot(..., kind = \"line\")`"
   ]
  },
  {
   "cell_type": "markdown",
   "id": "46e87bd1-77ab-4857-a1f8-fb66f6e0bb0b",
   "metadata": {},
   "source": [
    "**Exercise 1:** Load the CO$_2$ emissions data created in the last lab from the datasets folder and store the data in `co2_emissions`. Print the first few lines to get a feel for the data."
   ]
  },
  {
   "cell_type": "code",
   "execution_count": null,
   "id": "b1dfea1c-4e23-44f0-8bd7-82441177d62c",
   "metadata": {
    "deletable": false,
    "editable": false
   },
   "outputs": [],
   "source": [
    "# Run this cell to be offered with hints and solution\n",
    "show(week=3, question=1)"
   ]
  },
  {
   "cell_type": "code",
   "execution_count": null,
   "id": "4f16bd42-b175-48aa-ab34-03a9159ccd3e",
   "metadata": {},
   "outputs": [],
   "source": [
    "# Your code \n"
   ]
  },
  {
   "cell_type": "markdown",
   "id": "e77ec166-5f92-4b0e-a190-9bee52d13280",
   "metadata": {},
   "source": [
    "Suppose we are interested in seeing how the annual CO<sub>2</sub> emissions change over time. This is a question that relates several variables, so we want to use a relational plot. We can map the year to the x-axis and the annual CO<sub>2</sub> emissions to the y-axis."
   ]
  },
  {
   "cell_type": "code",
   "execution_count": null,
   "id": "c5a656d2-aee0-48c6-bf92-9eca54c16f40",
   "metadata": {},
   "outputs": [],
   "source": [
    "sns.relplot(\n",
    "    data = co2_emissions,\n",
    "    x = \"year\",\n",
    "    y = \"annual_co2_tonnes\"\n",
    ")"
   ]
  },
  {
   "cell_type": "markdown",
   "id": "9075ea8c-a0c6-408a-ae70-77f5de10d1e3",
   "metadata": {},
   "source": [
    "Scatter plots are the default type of relational plot in seaborn. One point (marker) is drawn for each row in the `co2_emissions` dataframe. It might be possible to start to make conclusions about the trend in CO$_2$ emissions over time, but it is pretty clear that there is an additional variable at play here. To include regions in the plot we can, for example, colour (or hue) for each region by adding `hue = \"region\"` to our seaborn call."
   ]
  },
  {
   "cell_type": "code",
   "execution_count": null,
   "id": "c8a746fb-a807-4593-b83b-743162a82f30",
   "metadata": {},
   "outputs": [],
   "source": [
    "sns.relplot(\n",
    "    data = co2_emissions,\n",
    "    x = \"year\",\n",
    "    y = \"annual_co2_tonnes\",\n",
    "    hue = \"region\"\n",
    ")"
   ]
  },
  {
   "cell_type": "markdown",
   "id": "6eed04ab-c3fb-47fb-be92-da0407760963",
   "metadata": {
    "editable": true,
    "slideshow": {
     "slide_type": ""
    },
    "tags": []
   },
   "source": [
    "This gives us a much clearer picture. Given that this is a time-series plot, a line plot might make interpretation easier. We can change the scatter plot to a line plot with the `kind = line` argument.\n",
    "\n",
    "**Exercise 2:** Create a line plot with `year` on the x-axis, `annual_co2_tonnes` on the y-axis and with colour determined by `region`."
   ]
  },
  {
   "cell_type": "code",
   "execution_count": null,
   "id": "596b7ae2-e81f-405d-8532-63c21a478053",
   "metadata": {
    "deletable": false,
    "editable": false
   },
   "outputs": [],
   "source": [
    "# Run this cell to be offered with hints and solution\n",
    "show(week=3, question=2)"
   ]
  },
  {
   "cell_type": "code",
   "execution_count": null,
   "id": "ac1bd130-5811-48f5-8ef2-9046238fe649",
   "metadata": {
    "editable": true,
    "slideshow": {
     "slide_type": ""
    },
    "tags": []
   },
   "outputs": [],
   "source": [
    "# Your code\n"
   ]
  },
  {
   "cell_type": "markdown",
   "id": "6c18f322-affa-4506-8636-a0d588c7ff08",
   "metadata": {},
   "source": [
    "**Discussion:** What conclusions could you make from the above visualisation? What further questions might you want to ask?"
   ]
  },
  {
   "cell_type": "markdown",
   "id": "c185ce06-8ff8-4d2c-a2de-cf72c87cd01d",
   "metadata": {},
   "source": [
    "Your answer:"
   ]
  },
  {
   "cell_type": "markdown",
   "id": "a12a3473-47df-463f-a156-cdda28d60ed7",
   "metadata": {},
   "source": [
    "Instead of using colour to distinguish regions, we could plot them on separate axes (or facets), which have the same axis scales.  Note that `col` in the code below means \"column\", not \"colour\", and that `col_wrap` controls how many columns there are."
   ]
  },
  {
   "cell_type": "code",
   "execution_count": null,
   "id": "17b72ac4-592a-465a-9e23-2f489bbc9e6c",
   "metadata": {},
   "outputs": [],
   "source": [
    "plot = sns.relplot(\n",
    "    data = co2_emissions,\n",
    "    x = \"year\",\n",
    "    y = \"annual_co2_tonnes\",\n",
    "    kind = \"line\",\n",
    "    col = \"region\",\n",
    "    col_wrap = 5\n",
    ")"
   ]
  },
  {
   "cell_type": "markdown",
   "id": "a96ecac1-cc8a-406b-b180-7d51343222ab",
   "metadata": {
    "editable": true,
    "slideshow": {
     "slide_type": ""
    },
    "tags": []
   },
   "source": [
    "**Discussion:** what are the advantages and disavantages of the two previous plots for exploratory data analysis, using colours or facets to separate regions? When might each type of plot be useful?"
   ]
  },
  {
   "cell_type": "code",
   "execution_count": null,
   "id": "b22628f9-8050-4905-b819-2a883054d569",
   "metadata": {
    "deletable": false,
    "editable": false
   },
   "outputs": [],
   "source": [
    "# Run this cell to be offered with hints and solution\n",
    "show(week=3, question=2.1)"
   ]
  },
  {
   "cell_type": "markdown",
   "id": "03c3efbd-ba5a-4c72-9b3f-cd3bce70a203",
   "metadata": {
    "editable": true,
    "slideshow": {
     "slide_type": ""
    },
    "tags": []
   },
   "source": [
    "Your answer:"
   ]
  },
  {
   "cell_type": "markdown",
   "id": "3f02567a-4d68-4167-a123-12b8e0982149",
   "metadata": {
    "editable": true,
    "slideshow": {
     "slide_type": ""
    },
    "tags": []
   },
   "source": [
    "__Note:__ This facetted plot is an example of a \"small multiples\" design - repeating the same set of axes, aligned so that the eye can compare the data easily.  \n",
    "\n",
    "## C. Distribution plots\n",
    "\n",
    "Distributional plots allow us to see the different possible values of a particular variable, and with what frequency they occur. Seaborn offers three kinds of distributional plots, however the easiest to use and interpret is the histogram which is also the default option. If you are interested in learning about the other kinds of distributional plots, refer to the [Seaborn documentation](https://seaborn.pydata.org/generated/seaborn.displot.html).\n",
    "\n",
    "First we will load a well-known [UCI](https://www.kaggle.com/uciml/pima-indians-diabetes-database) dataset of female patients over 21 years old and of Pima Indian heritage, in order to explore risk factors for diabetes. For more information on how the data were collected, see the original paper: \n",
    "\n",
    "Smith JW, Everhart JE, Dickson WC, Knowler WC, Johannes RS. [Using the ADAP Learning Algorithm to Forecast the Onset of Diabetes Mellitus.](https://pmc.ncbi.nlm.nih.gov/articles/PMC2245318/) Proc Annu Symp Comput Appl Med Care. 1988 Nov 9:261–5. PMCID: PMC2245318."
   ]
  },
  {
   "cell_type": "code",
   "execution_count": null,
   "id": "6ca9b20d-24f8-43f3-905b-07ea216e379d",
   "metadata": {
    "editable": true,
    "scrolled": true,
    "slideshow": {
     "slide_type": ""
    },
    "tags": []
   },
   "outputs": [],
   "source": [
    "diabetes = pd.read_csv(\"datasets/diabetes.csv\")\n",
    "diabetes.head()"
   ]
  },
  {
   "cell_type": "markdown",
   "id": "6c35554e-df12-49dd-a4d7-9ef0e8172fd5",
   "metadata": {},
   "source": [
    "Distributional plots follow very similar syntax to relational plots. We begin by looking at the distribution of age in the dataset."
   ]
  },
  {
   "cell_type": "code",
   "execution_count": null,
   "id": "d0cf6759-b6b3-4c40-9c8c-02be1130dab8",
   "metadata": {
    "scrolled": true
   },
   "outputs": [],
   "source": [
    "sns.displot(\n",
    "    data = diabetes,\n",
    "    x = \"Age\"\n",
    ")"
   ]
  },
  {
   "cell_type": "markdown",
   "id": "2f85df3b-c7ce-461d-858c-b21a9e1fcb84",
   "metadata": {},
   "source": [
    "**Discussion:** In many cases, one expects a normal distribution (sometimes referred to as a Gaussian distribution), when looking at a distribution of a variable from a whole population, e.g. height, IQ or body mass index. However, this is not the case above. Discuss with your lab partner (a) why the above distribution might still be a good representation of the true distribution and (b) what type of skew the distribution illustrates and why? Write down your answers:"
   ]
  },
  {
   "cell_type": "code",
   "execution_count": null,
   "id": "be0a634a-5d2e-4b49-8ceb-f5a7dcea1477",
   "metadata": {
    "deletable": false,
    "editable": false
   },
   "outputs": [],
   "source": [
    "# Run this cell to be offered with hints and solution\n",
    "show(week=3, question=2.2)"
   ]
  },
  {
   "cell_type": "markdown",
   "id": "b17172c0-35e0-4d67-9106-b04668e9d9da",
   "metadata": {},
   "source": [
    "Your answer:"
   ]
  },
  {
   "cell_type": "markdown",
   "id": "34bfe834-2144-40fa-b7bc-7df3cad0a471",
   "metadata": {},
   "source": [
    "**Exercise 3:** it is well known that obesity (defined as having a BMI of over 35) is a risk factor for diabetes. Investigate this by plotting a histogram mapping BMI to the x axis and the outcome to the hue (colour)."
   ]
  },
  {
   "cell_type": "code",
   "execution_count": null,
   "id": "10e92193-4804-4775-9647-2c63063fb037",
   "metadata": {
    "deletable": false,
    "editable": false
   },
   "outputs": [],
   "source": [
    "# Run this cell to be offered with hints and solution\n",
    "show(week=3, question=3)"
   ]
  },
  {
   "cell_type": "code",
   "execution_count": null,
   "id": "d0af6c30-088f-4df8-9554-40015838af60",
   "metadata": {},
   "outputs": [],
   "source": [
    "# Your code\n"
   ]
  },
  {
   "cell_type": "markdown",
   "id": "a15f4ef7-51a8-4a32-a221-57a87059099b",
   "metadata": {},
   "source": [
    "**Discussion:** you should notice that there are some people with a recorded BMI of 0. How should we interpret this information?"
   ]
  },
  {
   "cell_type": "code",
   "execution_count": null,
   "id": "ad948563-30c7-42eb-9956-3196210ebd09",
   "metadata": {
    "deletable": false,
    "editable": false
   },
   "outputs": [],
   "source": [
    "# Run this cell to be offered with hints and solution\n",
    "show(week=3, question=3.1)"
   ]
  },
  {
   "cell_type": "markdown",
   "id": "be85c887-68d8-47de-9211-f08b730d92ad",
   "metadata": {},
   "source": [
    "Your answer:"
   ]
  },
  {
   "cell_type": "markdown",
   "id": "9f972422-d18e-4fa5-b950-9a4b3a38d3ec",
   "metadata": {},
   "source": [
    "Another possible distributional plot here is a density plot. A density plot is essentially a smoothed histogram, which can sometimes result in a less-cluttered looking visualisation. It's important to note that the y-axis here is the _density_, analogous to the _frequency density_ sometimes seen in histograms and represents the \"likelihood\" at that point. The total area under the curve is equal to 1.\n",
    "\n",
    "In seaborn, we can produce a density plot with `kind = 'kde'`, which stands for \"Kernel Density Estimate\"."
   ]
  },
  {
   "cell_type": "code",
   "execution_count": null,
   "id": "eca3851e-419d-49af-a2ea-712f6dd6220c",
   "metadata": {
    "scrolled": true
   },
   "outputs": [],
   "source": [
    "sns.displot(\n",
    "    data = diabetes,\n",
    "    x = 'BMI',\n",
    "    hue = 'Outcome',\n",
    "    kind = 'kde'\n",
    ")"
   ]
  },
  {
   "cell_type": "markdown",
   "id": "d607e1ad-f906-4b90-8ab9-bf579da6b333",
   "metadata": {},
   "source": [
    "Notice that the x-axis extends to the negative numbers in the density plot, and these appear to have positive density. As part of the smoothing Seaborn performs, both tails of the curve must be zero without any sharp cut-off. It is, however, possible to restrict the density plot to only where there is data using the `cut=0` argument. You must be careful when interpreting density plots and, if you do wish to use them, we recommend reading the [documentation](https://seaborn.pydata.org/generated/seaborn.kdeplot.html)."
   ]
  },
  {
   "cell_type": "markdown",
   "id": "e2f31483-6f05-4200-9244-1611efe6ffcf",
   "metadata": {},
   "source": [
    "## D. Categorical Plots\n",
    "\n",
    "Sometimes our data is not continuous, but categorical. In these instances, we have to think more carefully about how we visualise our data and so seaborn has a third type of visualisation, `sns.catplot()`. There are many types of categorical plots in seaborn, which can be found in the [seaborn documentation](https://seaborn.pydata.org/generated/seaborn.catplot.html#seaborn.catplot).\n",
    "\n",
    "### D.1 Box plots\n",
    "\n",
    "Boxplots (also known as box and whisker plots) are one-dimensional representations of a distribution in which the box extends from the lower (first) to the upper (third) quartile values of the data, while the line across the box represents the median. The 'whiskers', the lines extending from the box, can represent different things, as described in the [Wikipedia article on boxplots](https://en.wikipedia.org/wiki/Box_plot). By default, Matplotlib defines the end of the upper whisker as the value of the largest data point that lies within 1.5 times the interquartile range from the upper quartile, and the lower whisker as the value of the smallest data point that lies within 1.5 times the interquartile range from the lower quartile. Data points that lie outwith the whiskers are called outliers, and are represented by dots or circles."
   ]
  },
  {
   "cell_type": "markdown",
   "id": "ffc9f06c-07c9-47a3-98a4-07d07494ac80",
   "metadata": {},
   "source": [
    "**Exercise 4:** Compute the upper and lower quartile, the median, the mean, and the standard deviation of BMI, for patients with and without diabetes separately, using functions from the pandas library."
   ]
  },
  {
   "cell_type": "code",
   "execution_count": null,
   "id": "f6bbcc49-57f9-4688-828d-e1939a4fb98c",
   "metadata": {
    "deletable": false,
    "editable": false
   },
   "outputs": [],
   "source": [
    "# Run this cell to be offered with hints and solution\n",
    "show(week=3, question=4)"
   ]
  },
  {
   "cell_type": "code",
   "execution_count": null,
   "id": "abb5d806-6f8d-4c2a-b067-1d0cf345be67",
   "metadata": {},
   "outputs": [],
   "source": [
    "# Your code\n"
   ]
  },
  {
   "cell_type": "markdown",
   "id": "b0b13627-36d3-4923-81c4-53170be531f8",
   "metadata": {},
   "source": [
    "Now that we've computed these values by hand, let's see how Seaborn visualises them. Box plots are considered a categorical plot in seaborn, so can be created with `sns.catplot(..., kind = \"box\")`."
   ]
  },
  {
   "cell_type": "code",
   "execution_count": null,
   "id": "394ee79f-13b3-4869-8cef-eb673fbc9db7",
   "metadata": {},
   "outputs": [],
   "source": [
    "sns.catplot(\n",
    "    data = diabetes,\n",
    "    kind = \"box\",\n",
    "    x = \"Outcome\",\n",
    "    y = \"BMI\"\n",
    ")"
   ]
  },
  {
   "cell_type": "markdown",
   "id": "3c50139e-2ec7-4e38-8dc1-5f91ac91bb8a",
   "metadata": {},
   "source": [
    "Again, we see that a higher BMI is associated with diabetes in the dataset as a whole. But is this a fair comparison? Suppose that BMI is associated with the number of pregnancies; when we restrict the analysis to compare only women who have had the same number of pregnancies, does the association between BMI and diabetes still hold? \n",
    "\n",
    "Let's investigate the association between diabetes and BMI, across different numbers of pregnancies.\n",
    "\n",
    "**Exercise 5:** Produce a box plot with the number of pregnancies on the x axis, BMI on the y axis, and colour (hue) used to distinguish patients with and without diabetes (outcome)."
   ]
  },
  {
   "cell_type": "code",
   "execution_count": null,
   "id": "d19c6534-1e3b-4272-893f-53bdd0d412d4",
   "metadata": {
    "deletable": false,
    "editable": false
   },
   "outputs": [],
   "source": [
    "# Run this cell to be offered with hints and solution\n",
    "show(week=3, question=5)"
   ]
  },
  {
   "cell_type": "code",
   "execution_count": null,
   "id": "4437e8d6-2b29-4386-8053-96c26c360a87",
   "metadata": {},
   "outputs": [],
   "source": [
    "# Your code\n"
   ]
  },
  {
   "cell_type": "markdown",
   "id": "32f475f6-2da3-49c6-9876-fb32bf27b5e5",
   "metadata": {},
   "source": [
    "**Discussion:** Does the association between BMI and diabetes hold for women with differing numbers of pregnancies?"
   ]
  },
  {
   "cell_type": "code",
   "execution_count": null,
   "id": "9b5b7498-62e7-49c6-82eb-d5fca4bf9dab",
   "metadata": {
    "deletable": false,
    "editable": false
   },
   "outputs": [],
   "source": [
    "# Run this cell to be offered with hints and solution\n",
    "show(week=3, question=5.1)"
   ]
  },
  {
   "cell_type": "markdown",
   "id": "e162f193-1275-4966-9e6c-c12febc210ec",
   "metadata": {},
   "source": [
    "Your answer:"
   ]
  },
  {
   "cell_type": "markdown",
   "id": "4b6632e5-57a0-4c36-a051-6ad1ef1afa99",
   "metadata": {},
   "source": [
    "**Discussion:** Boxplots represent distributions in a very simplified manner. Discuss with your lab partner when and how a box plot could misrepresent information. What would be an example of a distribution that would be badly represented by a boxplot?"
   ]
  },
  {
   "cell_type": "code",
   "execution_count": null,
   "id": "0f96289e-1c2c-425f-9b47-4f600f9b1864",
   "metadata": {
    "deletable": false,
    "editable": false
   },
   "outputs": [],
   "source": [
    "# Run this cell to be offered with hints and solution\n",
    "show(week=3, question=5.2)"
   ]
  },
  {
   "cell_type": "markdown",
   "id": "51d325b5-19d4-4147-a774-d196f42d75a5",
   "metadata": {},
   "source": [
    "Your answer:"
   ]
  },
  {
   "cell_type": "markdown",
   "id": "661447b2-b319-4ca2-bfda-a245b1fd98eb",
   "metadata": {
    "editable": true,
    "slideshow": {
     "slide_type": ""
    },
    "tags": []
   },
   "source": [
    "## E. Deciding what to visualise\n",
    "\n",
    "When there are so many variables in a dataset, it can be overwhelming trying to think of interesting questions to ask and exploring the data through visualisations. Often, a good idea can be to produce one big array of plots that shows many relationships and distributions in one go. A pair plot produces a scatter plot comparing each pair of variables, as well as a density plot for each variable. \n",
    "\n",
    "Once again, we can use colour to help distinguish between patients with and without diabetes."
   ]
  },
  {
   "cell_type": "code",
   "execution_count": null,
   "id": "f3351173-4296-445c-9f72-02b10e0fbef3",
   "metadata": {},
   "outputs": [],
   "source": [
    "sns.pairplot(diabetes, hue = \"Outcome\")"
   ]
  },
  {
   "cell_type": "markdown",
   "id": "4b446837-2a51-43af-ae2b-ba2bbdf6d7cc",
   "metadata": {
    "editable": true,
    "slideshow": {
     "slide_type": ""
    },
    "tags": []
   },
   "source": [
    "**Discussion:** How does what you see in the dataset relate to the plots above? What questions do you now have about the data?"
   ]
  },
  {
   "cell_type": "code",
   "execution_count": null,
   "id": "0795fca0-1e5d-4ccb-976a-904ec8c997c4",
   "metadata": {
    "deletable": false,
    "editable": false
   },
   "outputs": [],
   "source": [
    "# Run this cell to be offered with hints and solution\n",
    "show(week=3, question=5.3)"
   ]
  },
  {
   "cell_type": "markdown",
   "id": "01f5e301-8bfb-4cc1-8465-da7f54c1881a",
   "metadata": {},
   "source": [
    "Your answer:"
   ]
  },
  {
   "cell_type": "markdown",
   "id": "bd4209db-bdee-4c2c-befc-7c9c4366d45d",
   "metadata": {
    "editable": true,
    "slideshow": {
     "slide_type": ""
    },
    "tags": []
   },
   "source": [
    "## F. An exercise in plotting multivariate data\n",
    "\n",
    "Now it's your turn to fuse some data and generate some exploratory plots using the principles introduced above.\n",
    "\n",
    "**Exercise 6:** \n",
    "\n",
    " a) Load the `co2_emissions_vs_gdp.csv` dataset from the `datasets` folder. \n",
    " \n",
    " b) Visualise the CO<sub>2</sub> emissions per capita, GDP per capita and total population all in one plot\n",
    " "
   ]
  },
  {
   "cell_type": "code",
   "execution_count": null,
   "id": "08482d2f-e668-45be-873a-4b65ffe0badb",
   "metadata": {
    "deletable": false,
    "editable": false
   },
   "outputs": [],
   "source": [
    "# Run this cell to be offered with hints and solution\n",
    "show(week=3, question=6)"
   ]
  },
  {
   "cell_type": "code",
   "execution_count": null,
   "id": "c79fa0f6-0712-4898-80ea-c1eed59ee1db",
   "metadata": {
    "editable": true,
    "scrolled": true,
    "slideshow": {
     "slide_type": ""
    },
    "tags": []
   },
   "outputs": [],
   "source": [
    "# Your code\n"
   ]
  },
  {
   "cell_type": "markdown",
   "id": "b89810ec-5ff5-4ddf-ab67-09f00c127738",
   "metadata": {},
   "source": [
    "**Exercise 7:**\n",
    "\n",
    "a) In the last lab, the `drinks_by_country.csv` dataset contained the continents. Load that dataset (we have made a copy in this lab's dataset folder).\n",
    "\n",
    "b) Merge the new DataFrame with the previous DataFrame (`co2_vs_gdp`). Careful: In `co2_vs_gdp` the country column is called `Entity` whereas in `drinks_by_country` the country column is called `Country`.\n",
    "\n",
    "c) Try to create another visualisation with  CO<sub>2</sub> emissions per capita, GDP per capita, total population and continent all in one plot"
   ]
  },
  {
   "cell_type": "code",
   "execution_count": null,
   "id": "3629e5f5-e606-4566-a7da-84953be50bea",
   "metadata": {
    "deletable": false,
    "editable": false
   },
   "outputs": [],
   "source": [
    "# Run this cell to be offered with hints and solution\n",
    "show(week=3, question=7)"
   ]
  },
  {
   "cell_type": "code",
   "execution_count": null,
   "id": "22f11f44-9c94-432e-9659-fb87524ca851",
   "metadata": {
    "editable": true,
    "slideshow": {
     "slide_type": ""
    },
    "tags": []
   },
   "outputs": [],
   "source": [
    "# Your code\n"
   ]
  },
  {
   "cell_type": "markdown",
   "id": "fb94d208-e263-4641-8c8f-2ee67aa80aad",
   "metadata": {},
   "source": [
    "We will use the merged data frame in the next lab, so we save it as a .csv file:"
   ]
  },
  {
   "cell_type": "code",
   "execution_count": null,
   "id": "616a6ae5-cc1d-4837-b3a6-e70e8e9503af",
   "metadata": {},
   "outputs": [],
   "source": [
    "co2_vs_gdp_continent.to_csv(\"datasets/co2_vs_gdp_continent.csv\", index_label=False)"
   ]
  },
  {
   "cell_type": "markdown",
   "id": "23ad9f6a-2369-4233-8458-62abe1d4dbdb",
   "metadata": {},
   "source": [
    "**Discussion:** Look back through the visualisations created in this lab and reflect on [Visualisation Principle 1: show the data](./FDS-visualisation-principles.pdf). Can you identify which aspects of the guidance relate to each plot?"
   ]
  }
 ],
 "metadata": {
  "kernelspec": {
   "display_name": "Python 3 (ipykernel)",
   "language": "python",
   "name": "python3"
  },
  "language_info": {
   "codemirror_mode": {
    "name": "ipython",
    "version": 3
   },
   "file_extension": ".py",
   "mimetype": "text/x-python",
   "name": "python",
   "nbconvert_exporter": "python",
   "pygments_lexer": "ipython3",
   "version": "3.12.11"
  }
 },
 "nbformat": 4,
 "nbformat_minor": 5
}
